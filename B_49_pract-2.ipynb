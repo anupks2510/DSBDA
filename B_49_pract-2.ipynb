{
 "cells": [
  {
   "cell_type": "markdown",
   "id": "656e047e",
   "metadata": {},
   "source": [
    "# Practical No.2\n",
    "\n",
    "Create an “Academic performance” dataset of students and perform the following operations using\n",
    "Python.\n",
    "1. Scan all variables for missing values and inconsistencies. If there are missing values and/or\n",
    "inconsistencies, use any of the suitable techniques to deal with them.\n",
    "2. Scan all numeric variables for outliers. If there are outliers, use any of the suitable techniques\n",
    "to deal with them.\n",
    "3. Apply data transformations on at least one of the variables. The purpose of this transformation\n",
    "should be one of the following reasons: to change the scale for better understanding of the\n",
    "variable, to convert a non-linear relation into a linear one, or to decrease the skewness and\n",
    "convert the distribution into a normal distribution.\n",
    "Reason and document your approach properly.\n"
   ]
  },
  {
   "cell_type": "markdown",
   "id": "2ed05ecd",
   "metadata": {},
   "source": [
    "Name: Anupkumar Singh\n",
    "Roll No.: 49\n",
    "Batch: B3"
   ]
  },
  {
   "cell_type": "code",
   "execution_count": 18,
   "id": "49b4cf27",
   "metadata": {},
   "outputs": [],
   "source": [
    "import pandas as pd\n",
    "import numpy as np\n",
    "import seaborn as sns"
   ]
  },
  {
   "cell_type": "markdown",
   "id": "3a266a64",
   "metadata": {},
   "source": [
    "# Creating Dataset"
   ]
  },
  {
   "cell_type": "code",
   "execution_count": 15,
   "id": "781952d7",
   "metadata": {},
   "outputs": [],
   "source": [
    "data={\n",
    "    'Name':['Anup', 'Rajesh','Vivek','Pratik','Patil'],\n",
    "    'Age': [20, 21, 20, 19, 20,],\n",
    "    'Gender': ['Male','Female', 'Female','Female','Male'],\n",
    "    'Cloud_Computing':[80, 80, 90, 70 ,100],\n",
    "    'Web_Technology':[55, 65,45,85, 99,],\n",
    "    'DSBDA':[55,85,95,45,25],\n",
    "    'Ai': [55,65,45,75,100],\n",
    "    'Attendance':[85,75,77,78,70]\n",
    "}"
   ]
  },
  {
   "cell_type": "code",
   "execution_count": 16,
   "id": "1209165e",
   "metadata": {},
   "outputs": [],
   "source": [
    "df=pd.DataFrame(data)"
   ]
  },
  {
   "cell_type": "code",
   "execution_count": 9,
   "id": "0818800e",
   "metadata": {},
   "outputs": [
    {
     "data": {
      "text/html": [
       "<div>\n",
       "<style scoped>\n",
       "    .dataframe tbody tr th:only-of-type {\n",
       "        vertical-align: middle;\n",
       "    }\n",
       "\n",
       "    .dataframe tbody tr th {\n",
       "        vertical-align: top;\n",
       "    }\n",
       "\n",
       "    .dataframe thead th {\n",
       "        text-align: right;\n",
       "    }\n",
       "</style>\n",
       "<table border=\"1\" class=\"dataframe\">\n",
       "  <thead>\n",
       "    <tr style=\"text-align: right;\">\n",
       "      <th></th>\n",
       "      <th>Name</th>\n",
       "      <th>Age</th>\n",
       "      <th>Gender</th>\n",
       "      <th>Cloud_Computing</th>\n",
       "      <th>Web_Technology</th>\n",
       "      <th>DSBDA</th>\n",
       "      <th>Ai</th>\n",
       "      <th>Attendance</th>\n",
       "    </tr>\n",
       "  </thead>\n",
       "  <tbody>\n",
       "    <tr>\n",
       "      <th>0</th>\n",
       "      <td>Anup</td>\n",
       "      <td>20</td>\n",
       "      <td>Male</td>\n",
       "      <td>80</td>\n",
       "      <td>55</td>\n",
       "      <td>55</td>\n",
       "      <td>55</td>\n",
       "      <td>85</td>\n",
       "    </tr>\n",
       "    <tr>\n",
       "      <th>1</th>\n",
       "      <td>Rajesh</td>\n",
       "      <td>21</td>\n",
       "      <td>Female</td>\n",
       "      <td>80</td>\n",
       "      <td>65</td>\n",
       "      <td>85</td>\n",
       "      <td>65</td>\n",
       "      <td>75</td>\n",
       "    </tr>\n",
       "    <tr>\n",
       "      <th>2</th>\n",
       "      <td>Vivek</td>\n",
       "      <td>20</td>\n",
       "      <td>Female</td>\n",
       "      <td>90</td>\n",
       "      <td>45</td>\n",
       "      <td>95</td>\n",
       "      <td>45</td>\n",
       "      <td>77</td>\n",
       "    </tr>\n",
       "    <tr>\n",
       "      <th>3</th>\n",
       "      <td>Pratik</td>\n",
       "      <td>19</td>\n",
       "      <td>Female</td>\n",
       "      <td>70</td>\n",
       "      <td>85</td>\n",
       "      <td>45</td>\n",
       "      <td>75</td>\n",
       "      <td>78</td>\n",
       "    </tr>\n",
       "    <tr>\n",
       "      <th>4</th>\n",
       "      <td>Patil</td>\n",
       "      <td>20</td>\n",
       "      <td>Male</td>\n",
       "      <td>100</td>\n",
       "      <td>99</td>\n",
       "      <td>25</td>\n",
       "      <td>100</td>\n",
       "      <td>70</td>\n",
       "    </tr>\n",
       "  </tbody>\n",
       "</table>\n",
       "</div>"
      ],
      "text/plain": [
       "     Name  Age  Gender  Cloud_Computing  Web_Technology  DSBDA   Ai  \\\n",
       "0    Anup   20    Male               80              55     55   55   \n",
       "1  Rajesh   21  Female               80              65     85   65   \n",
       "2   Vivek   20  Female               90              45     95   45   \n",
       "3  Pratik   19  Female               70              85     45   75   \n",
       "4   Patil   20    Male              100              99     25  100   \n",
       "\n",
       "   Attendance  \n",
       "0          85  \n",
       "1          75  \n",
       "2          77  \n",
       "3          78  \n",
       "4          70  "
      ]
     },
     "execution_count": 9,
     "metadata": {},
     "output_type": "execute_result"
    }
   ],
   "source": [
    "df"
   ]
  },
  {
   "cell_type": "markdown",
   "id": "53ef7ff6",
   "metadata": {},
   "source": [
    "# Scan for Missing Values and Inconsistencies"
   ]
  },
  {
   "cell_type": "code",
   "execution_count": 10,
   "id": "5cbc0584",
   "metadata": {},
   "outputs": [],
   "source": [
    "missing_values=df.isnull().sum()"
   ]
  },
  {
   "cell_type": "code",
   "execution_count": 11,
   "id": "1d48402a",
   "metadata": {},
   "outputs": [
    {
     "data": {
      "text/plain": [
       "Name               0\n",
       "Age                0\n",
       "Gender             0\n",
       "Cloud_Computing    0\n",
       "Web_Technology     0\n",
       "DSBDA              0\n",
       "Ai                 0\n",
       "Attendance         0\n",
       "dtype: int64"
      ]
     },
     "execution_count": 11,
     "metadata": {},
     "output_type": "execute_result"
    }
   ],
   "source": [
    "missing_values"
   ]
  },
  {
   "cell_type": "markdown",
   "id": "f14ba0ab",
   "metadata": {},
   "source": [
    "# Scan for Outliers in Numeric Variables"
   ]
  },
  {
   "cell_type": "code",
   "execution_count": 19,
   "id": "67139bd8",
   "metadata": {},
   "outputs": [
    {
     "data": {
      "text/plain": [
       "<Axes: xlabel='Cloud_Computing'>"
      ]
     },
     "execution_count": 19,
     "metadata": {},
     "output_type": "execute_result"
    },
    {
     "data": {
      "image/png": "[encoded data removed]",
      "text/plain": [
       "<Figure size 640x480 with 1 Axes>"
      ]
     },
     "metadata": {},
     "output_type": "display_data"
    }
   ],
   "source": [
    "sns.boxplot(x=df['Cloud_Computing'])"
   ]
  },
  {
   "cell_type": "code",
   "execution_count": 21,
   "id": "4f8c8ba9",
   "metadata": {},
   "outputs": [
    {
     "data": {
      "text/plain": [
       "<Axes: xlabel='Web_Technology'>"
      ]
     },
     "execution_count": 21,
     "metadata": {},
     "output_type": "execute_result"
    },
    {
     "data": {
      "image/png": "[encoded data removed]",
      "text/plain": [
       "<Figure size 640x480 with 1 Axes>"
      ]
     },
     "metadata": {},
     "output_type": "display_data"
    }
   ],
   "source": [
    "sns.boxplot(x=df['Web_Technology'])"
   ]
  },
  {
   "cell_type": "code",
   "execution_count": 22,
   "id": "e68a150a",
   "metadata": {},
   "outputs": [
    {
     "data": {
      "text/plain": [
       "<Axes: xlabel='Ai'>"
      ]
     },
     "execution_count": 22,
     "metadata": {},
     "output_type": "execute_result"
    },
    {
     "data": {
      "image/png": "[encoded data removed]",
      "text/plain": [
       "<Figure size 640x480 with 1 Axes>"
      ]
     },
     "metadata": {},
     "output_type": "display_data"
    }
   ],
   "source": [
    "sns.boxplot(x=df['Ai'])"
   ]
  },
  {
   "cell_type": "code",
   "execution_count": 23,
   "id": "cabf1254",
   "metadata": {},
   "outputs": [
    {
     "data": {
      "text/plain": [
       "<Axes: xlabel='DSBDA'>"
      ]
     },
     "execution_count": 23,
     "metadata": {},
     "output_type": "execute_result"
    },
    {
     "data": {
      "image/png": "[encoded data removed]",
      "text/plain": [
       "<Figure size 640x480 with 1 Axes>"
      ]
     },
     "metadata": {},
     "output_type": "display_data"
    }
   ],
   "source": [
    "sns.boxplot(x=df['DSBDA'])"
   ]
  },
  {
   "cell_type": "markdown",
   "id": "4c4f3730",
   "metadata": {},
   "source": [
    "# Apply Data Transformations"
   ]
  },
  {
   "cell_type": "code",
   "execution_count": 24,
   "id": "1ed97eeb",
   "metadata": {},
   "outputs": [],
   "source": [
    "df['cloud_score'] = np.log1p(df['Cloud_Computing'])\n"
   ]
  },
  {
   "cell_type": "code",
   "execution_count": 26,
   "id": "4fb4d0dc",
   "metadata": {},
   "outputs": [
    {
     "data": {
      "text/html": [
       "<div>\n",
       "<style scoped>\n",
       "    .dataframe tbody tr th:only-of-type {\n",
       "        vertical-align: middle;\n",
       "    }\n",
       "\n",
       "    .dataframe tbody tr th {\n",
       "        vertical-align: top;\n",
       "    }\n",
       "\n",
       "    .dataframe thead th {\n",
       "        text-align: right;\n",
       "    }\n",
       "</style>\n",
       "<table border=\"1\" class=\"dataframe\">\n",
       "  <thead>\n",
       "    <tr style=\"text-align: right;\">\n",
       "      <th></th>\n",
       "      <th>Name</th>\n",
       "      <th>Age</th>\n",
       "      <th>Gender</th>\n",
       "      <th>Cloud_Computing</th>\n",
       "      <th>Web_Technology</th>\n",
       "      <th>DSBDA</th>\n",
       "      <th>Ai</th>\n",
       "      <th>Attendance</th>\n",
       "      <th>cloud_score</th>\n",
       "    </tr>\n",
       "  </thead>\n",
       "  <tbody>\n",
       "    <tr>\n",
       "      <th>0</th>\n",
       "      <td>Anup</td>\n",
       "      <td>20</td>\n",
       "      <td>Male</td>\n",
       "      <td>80</td>\n",
       "      <td>55</td>\n",
       "      <td>55</td>\n",
       "      <td>55</td>\n",
       "      <td>85</td>\n",
       "      <td>4.394449</td>\n",
       "    </tr>\n",
       "    <tr>\n",
       "      <th>1</th>\n",
       "      <td>Rajesh</td>\n",
       "      <td>21</td>\n",
       "      <td>Female</td>\n",
       "      <td>80</td>\n",
       "      <td>65</td>\n",
       "      <td>85</td>\n",
       "      <td>65</td>\n",
       "      <td>75</td>\n",
       "      <td>4.394449</td>\n",
       "    </tr>\n",
       "    <tr>\n",
       "      <th>2</th>\n",
       "      <td>Vivek</td>\n",
       "      <td>20</td>\n",
       "      <td>Female</td>\n",
       "      <td>90</td>\n",
       "      <td>45</td>\n",
       "      <td>95</td>\n",
       "      <td>45</td>\n",
       "      <td>77</td>\n",
       "      <td>4.510860</td>\n",
       "    </tr>\n",
       "    <tr>\n",
       "      <th>3</th>\n",
       "      <td>Pratik</td>\n",
       "      <td>19</td>\n",
       "      <td>Female</td>\n",
       "      <td>70</td>\n",
       "      <td>85</td>\n",
       "      <td>45</td>\n",
       "      <td>75</td>\n",
       "      <td>78</td>\n",
       "      <td>4.262680</td>\n",
       "    </tr>\n",
       "    <tr>\n",
       "      <th>4</th>\n",
       "      <td>Patil</td>\n",
       "      <td>20</td>\n",
       "      <td>Male</td>\n",
       "      <td>100</td>\n",
       "      <td>99</td>\n",
       "      <td>25</td>\n",
       "      <td>100</td>\n",
       "      <td>70</td>\n",
       "      <td>4.615121</td>\n",
       "    </tr>\n",
       "  </tbody>\n",
       "</table>\n",
       "</div>"
      ],
      "text/plain": [
       "     Name  Age  Gender  Cloud_Computing  Web_Technology  DSBDA   Ai  \\\n",
       "0    Anup   20    Male               80              55     55   55   \n",
       "1  Rajesh   21  Female               80              65     85   65   \n",
       "2   Vivek   20  Female               90              45     95   45   \n",
       "3  Pratik   19  Female               70              85     45   75   \n",
       "4   Patil   20    Male              100              99     25  100   \n",
       "\n",
       "   Attendance  cloud_score  \n",
       "0          85     4.394449  \n",
       "1          75     4.394449  \n",
       "2          77     4.510860  \n",
       "3          78     4.262680  \n",
       "4          70     4.615121  "
      ]
     },
     "execution_count": 26,
     "metadata": {},
     "output_type": "execute_result"
    }
   ],
   "source": [
    "df"
   ]
  },
  {
   "cell_type": "code",
   "execution_count": 28,
   "id": "87b2559f",
   "metadata": {},
   "outputs": [],
   "source": [
    "df['web_tech']= np.log1p(df['Web_Technology'])"
   ]
  },
  {
   "cell_type": "code",
   "execution_count": 29,
   "id": "c8334d3f",
   "metadata": {},
   "outputs": [
    {
     "data": {
      "text/html": [
       "<div>\n",
       "<style scoped>\n",
       "    .dataframe tbody tr th:only-of-type {\n",
       "        vertical-align: middle;\n",
       "    }\n",
       "\n",
       "    .dataframe tbody tr th {\n",
       "        vertical-align: top;\n",
       "    }\n",
       "\n",
       "    .dataframe thead th {\n",
       "        text-align: right;\n",
       "    }\n",
       "</style>\n",
       "<table border=\"1\" class=\"dataframe\">\n",
       "  <thead>\n",
       "    <tr style=\"text-align: right;\">\n",
       "      <th></th>\n",
       "      <th>Name</th>\n",
       "      <th>Age</th>\n",
       "      <th>Gender</th>\n",
       "      <th>Cloud_Computing</th>\n",
       "      <th>Web_Technology</th>\n",
       "      <th>DSBDA</th>\n",
       "      <th>Ai</th>\n",
       "      <th>Attendance</th>\n",
       "      <th>cloud_score</th>\n",
       "      <th>web_tech</th>\n",
       "    </tr>\n",
       "  </thead>\n",
       "  <tbody>\n",
       "    <tr>\n",
       "      <th>0</th>\n",
       "      <td>Anup</td>\n",
       "      <td>20</td>\n",
       "      <td>Male</td>\n",
       "      <td>80</td>\n",
       "      <td>55</td>\n",
       "      <td>55</td>\n",
       "      <td>55</td>\n",
       "      <td>85</td>\n",
       "      <td>4.394449</td>\n",
       "      <td>4.025352</td>\n",
       "    </tr>\n",
       "    <tr>\n",
       "      <th>1</th>\n",
       "      <td>Rajesh</td>\n",
       "      <td>21</td>\n",
       "      <td>Female</td>\n",
       "      <td>80</td>\n",
       "      <td>65</td>\n",
       "      <td>85</td>\n",
       "      <td>65</td>\n",
       "      <td>75</td>\n",
       "      <td>4.394449</td>\n",
       "      <td>4.189655</td>\n",
       "    </tr>\n",
       "    <tr>\n",
       "      <th>2</th>\n",
       "      <td>Vivek</td>\n",
       "      <td>20</td>\n",
       "      <td>Female</td>\n",
       "      <td>90</td>\n",
       "      <td>45</td>\n",
       "      <td>95</td>\n",
       "      <td>45</td>\n",
       "      <td>77</td>\n",
       "      <td>4.510860</td>\n",
       "      <td>3.828641</td>\n",
       "    </tr>\n",
       "    <tr>\n",
       "      <th>3</th>\n",
       "      <td>Pratik</td>\n",
       "      <td>19</td>\n",
       "      <td>Female</td>\n",
       "      <td>70</td>\n",
       "      <td>85</td>\n",
       "      <td>45</td>\n",
       "      <td>75</td>\n",
       "      <td>78</td>\n",
       "      <td>4.262680</td>\n",
       "      <td>4.454347</td>\n",
       "    </tr>\n",
       "    <tr>\n",
       "      <th>4</th>\n",
       "      <td>Patil</td>\n",
       "      <td>20</td>\n",
       "      <td>Male</td>\n",
       "      <td>100</td>\n",
       "      <td>99</td>\n",
       "      <td>25</td>\n",
       "      <td>100</td>\n",
       "      <td>70</td>\n",
       "      <td>4.615121</td>\n",
       "      <td>4.605170</td>\n",
       "    </tr>\n",
       "  </tbody>\n",
       "</table>\n",
       "</div>"
      ],
      "text/plain": [
       "     Name  Age  Gender  Cloud_Computing  Web_Technology  DSBDA   Ai  \\\n",
       "0    Anup   20    Male               80              55     55   55   \n",
       "1  Rajesh   21  Female               80              65     85   65   \n",
       "2   Vivek   20  Female               90              45     95   45   \n",
       "3  Pratik   19  Female               70              85     45   75   \n",
       "4   Patil   20    Male              100              99     25  100   \n",
       "\n",
       "   Attendance  cloud_score  web_tech  \n",
       "0          85     4.394449  4.025352  \n",
       "1          75     4.394449  4.189655  \n",
       "2          77     4.510860  3.828641  \n",
       "3          78     4.262680  4.454347  \n",
       "4          70     4.615121  4.605170  "
      ]
     },
     "execution_count": 29,
     "metadata": {},
     "output_type": "execute_result"
    }
   ],
   "source": [
    "df"
   ]
  },
  {
   "cell_type": "code",
   "execution_count": 32,
   "id": "7fd3457f",
   "metadata": {},
   "outputs": [],
   "source": [
    "df['ai']=np.log1p(df['Ai'])"
   ]
  },
  {
   "cell_type": "code",
   "execution_count": 33,
   "id": "3300bca8",
   "metadata": {},
   "outputs": [
    {
     "data": {
      "text/html": [
       "<div>\n",
       "<style scoped>\n",
       "    .dataframe tbody tr th:only-of-type {\n",
       "        vertical-align: middle;\n",
       "    }\n",
       "\n",
       "    .dataframe tbody tr th {\n",
       "        vertical-align: top;\n",
       "    }\n",
       "\n",
       "    .dataframe thead th {\n",
       "        text-align: right;\n",
       "    }\n",
       "</style>\n",
       "<table border=\"1\" class=\"dataframe\">\n",
       "  <thead>\n",
       "    <tr style=\"text-align: right;\">\n",
       "      <th></th>\n",
       "      <th>Name</th>\n",
       "      <th>Age</th>\n",
       "      <th>Gender</th>\n",
       "      <th>Cloud_Computing</th>\n",
       "      <th>Web_Technology</th>\n",
       "      <th>DSBDA</th>\n",
       "      <th>Ai</th>\n",
       "      <th>Attendance</th>\n",
       "      <th>cloud_score</th>\n",
       "      <th>web_tech</th>\n",
       "      <th>ai</th>\n",
       "    </tr>\n",
       "  </thead>\n",
       "  <tbody>\n",
       "    <tr>\n",
       "      <th>0</th>\n",
       "      <td>Anup</td>\n",
       "      <td>20</td>\n",
       "      <td>Male</td>\n",
       "      <td>80</td>\n",
       "      <td>55</td>\n",
       "      <td>55</td>\n",
       "      <td>4.025352</td>\n",
       "      <td>85</td>\n",
       "      <td>4.394449</td>\n",
       "      <td>4.025352</td>\n",
       "      <td>1.614495</td>\n",
       "    </tr>\n",
       "    <tr>\n",
       "      <th>1</th>\n",
       "      <td>Rajesh</td>\n",
       "      <td>21</td>\n",
       "      <td>Female</td>\n",
       "      <td>80</td>\n",
       "      <td>65</td>\n",
       "      <td>85</td>\n",
       "      <td>4.189655</td>\n",
       "      <td>75</td>\n",
       "      <td>4.394449</td>\n",
       "      <td>4.189655</td>\n",
       "      <td>1.646667</td>\n",
       "    </tr>\n",
       "    <tr>\n",
       "      <th>2</th>\n",
       "      <td>Vivek</td>\n",
       "      <td>20</td>\n",
       "      <td>Female</td>\n",
       "      <td>90</td>\n",
       "      <td>45</td>\n",
       "      <td>95</td>\n",
       "      <td>3.828641</td>\n",
       "      <td>77</td>\n",
       "      <td>4.510860</td>\n",
       "      <td>3.828641</td>\n",
       "      <td>1.574565</td>\n",
       "    </tr>\n",
       "    <tr>\n",
       "      <th>3</th>\n",
       "      <td>Pratik</td>\n",
       "      <td>19</td>\n",
       "      <td>Female</td>\n",
       "      <td>70</td>\n",
       "      <td>85</td>\n",
       "      <td>45</td>\n",
       "      <td>4.330733</td>\n",
       "      <td>78</td>\n",
       "      <td>4.262680</td>\n",
       "      <td>4.454347</td>\n",
       "      <td>1.673489</td>\n",
       "    </tr>\n",
       "    <tr>\n",
       "      <th>4</th>\n",
       "      <td>Patil</td>\n",
       "      <td>20</td>\n",
       "      <td>Male</td>\n",
       "      <td>100</td>\n",
       "      <td>99</td>\n",
       "      <td>25</td>\n",
       "      <td>4.615121</td>\n",
       "      <td>70</td>\n",
       "      <td>4.615121</td>\n",
       "      <td>4.605170</td>\n",
       "      <td>1.725463</td>\n",
       "    </tr>\n",
       "  </tbody>\n",
       "</table>\n",
       "</div>"
      ],
      "text/plain": [
       "     Name  Age  Gender  Cloud_Computing  Web_Technology  DSBDA        Ai  \\\n",
       "0    Anup   20    Male               80              55     55  4.025352   \n",
       "1  Rajesh   21  Female               80              65     85  4.189655   \n",
       "2   Vivek   20  Female               90              45     95  3.828641   \n",
       "3  Pratik   19  Female               70              85     45  4.330733   \n",
       "4   Patil   20    Male              100              99     25  4.615121   \n",
       "\n",
       "   Attendance  cloud_score  web_tech        ai  \n",
       "0          85     4.394449  4.025352  1.614495  \n",
       "1          75     4.394449  4.189655  1.646667  \n",
       "2          77     4.510860  3.828641  1.574565  \n",
       "3          78     4.262680  4.454347  1.673489  \n",
       "4          70     4.615121  4.605170  1.725463  "
      ]
     },
     "execution_count": 33,
     "metadata": {},
     "output_type": "execute_result"
    }
   ],
   "source": [
    "df"
   ]
  },
  {
   "cell_type": "code",
   "execution_count": 36,
   "id": "b3d94da4",
   "metadata": {},
   "outputs": [],
   "source": [
    "df['dsbda']=np.log1p(df['DSBDA'])"
   ]
  },
  {
   "cell_type": "code",
   "execution_count": 37,
   "id": "53edc49a",
   "metadata": {},
   "outputs": [
    {
     "data": {
      "text/html": [
       "<div>\n",
       "<style scoped>\n",
       "    .dataframe tbody tr th:only-of-type {\n",
       "        vertical-align: middle;\n",
       "    }\n",
       "\n",
       "    .dataframe tbody tr th {\n",
       "        vertical-align: top;\n",
       "    }\n",
       "\n",
       "    .dataframe thead th {\n",
       "        text-align: right;\n",
       "    }\n",
       "</style>\n",
       "<table border=\"1\" class=\"dataframe\">\n",
       "  <thead>\n",
       "    <tr style=\"text-align: right;\">\n",
       "      <th></th>\n",
       "      <th>Name</th>\n",
       "      <th>Age</th>\n",
       "      <th>Gender</th>\n",
       "      <th>Cloud_Computing</th>\n",
       "      <th>Web_Technology</th>\n",
       "      <th>DSBDA</th>\n",
       "      <th>Ai</th>\n",
       "      <th>Attendance</th>\n",
       "      <th>cloud_score</th>\n",
       "      <th>web_tech</th>\n",
       "      <th>ai</th>\n",
       "      <th>dsbda</th>\n",
       "    </tr>\n",
       "  </thead>\n",
       "  <tbody>\n",
       "    <tr>\n",
       "      <th>0</th>\n",
       "      <td>Anup</td>\n",
       "      <td>20</td>\n",
       "      <td>Male</td>\n",
       "      <td>80</td>\n",
       "      <td>55</td>\n",
       "      <td>55</td>\n",
       "      <td>4.025352</td>\n",
       "      <td>85</td>\n",
       "      <td>4.394449</td>\n",
       "      <td>4.025352</td>\n",
       "      <td>1.614495</td>\n",
       "      <td>4.025352</td>\n",
       "    </tr>\n",
       "    <tr>\n",
       "      <th>1</th>\n",
       "      <td>Rajesh</td>\n",
       "      <td>21</td>\n",
       "      <td>Female</td>\n",
       "      <td>80</td>\n",
       "      <td>65</td>\n",
       "      <td>85</td>\n",
       "      <td>4.189655</td>\n",
       "      <td>75</td>\n",
       "      <td>4.394449</td>\n",
       "      <td>4.189655</td>\n",
       "      <td>1.646667</td>\n",
       "      <td>4.454347</td>\n",
       "    </tr>\n",
       "    <tr>\n",
       "      <th>2</th>\n",
       "      <td>Vivek</td>\n",
       "      <td>20</td>\n",
       "      <td>Female</td>\n",
       "      <td>90</td>\n",
       "      <td>45</td>\n",
       "      <td>95</td>\n",
       "      <td>3.828641</td>\n",
       "      <td>77</td>\n",
       "      <td>4.510860</td>\n",
       "      <td>3.828641</td>\n",
       "      <td>1.574565</td>\n",
       "      <td>4.564348</td>\n",
       "    </tr>\n",
       "    <tr>\n",
       "      <th>3</th>\n",
       "      <td>Pratik</td>\n",
       "      <td>19</td>\n",
       "      <td>Female</td>\n",
       "      <td>70</td>\n",
       "      <td>85</td>\n",
       "      <td>45</td>\n",
       "      <td>4.330733</td>\n",
       "      <td>78</td>\n",
       "      <td>4.262680</td>\n",
       "      <td>4.454347</td>\n",
       "      <td>1.673489</td>\n",
       "      <td>3.828641</td>\n",
       "    </tr>\n",
       "    <tr>\n",
       "      <th>4</th>\n",
       "      <td>Patil</td>\n",
       "      <td>20</td>\n",
       "      <td>Male</td>\n",
       "      <td>100</td>\n",
       "      <td>99</td>\n",
       "      <td>25</td>\n",
       "      <td>4.615121</td>\n",
       "      <td>70</td>\n",
       "      <td>4.615121</td>\n",
       "      <td>4.605170</td>\n",
       "      <td>1.725463</td>\n",
       "      <td>3.258097</td>\n",
       "    </tr>\n",
       "  </tbody>\n",
       "</table>\n",
       "</div>"
      ],
      "text/plain": [
       "     Name  Age  Gender  Cloud_Computing  Web_Technology  DSBDA        Ai  \\\n",
       "0    Anup   20    Male               80              55     55  4.025352   \n",
       "1  Rajesh   21  Female               80              65     85  4.189655   \n",
       "2   Vivek   20  Female               90              45     95  3.828641   \n",
       "3  Pratik   19  Female               70              85     45  4.330733   \n",
       "4   Patil   20    Male              100              99     25  4.615121   \n",
       "\n",
       "   Attendance  cloud_score  web_tech        ai     dsbda  \n",
       "0          85     4.394449  4.025352  1.614495  4.025352  \n",
       "1          75     4.394449  4.189655  1.646667  4.454347  \n",
       "2          77     4.510860  3.828641  1.574565  4.564348  \n",
       "3          78     4.262680  4.454347  1.673489  3.828641  \n",
       "4          70     4.615121  4.605170  1.725463  3.258097  "
      ]
     },
     "execution_count": 37,
     "metadata": {},
     "output_type": "execute_result"
    }
   ],
   "source": [
    "df"
   ]
  },
  {
   "cell_type": "markdown",
   "id": "b6d21050",
   "metadata": {},
   "source": [
    "# Documenting the Approach"
   ]
  },
  {
   "cell_type": "raw",
   "id": "62e7f592",
   "metadata": {},
   "source": [
    "When performing data transformations, it's important to document the purpose and rationale behind the transformation. This helps provide context and explain why a particular transformation was chosen.\n",
    "\n",
    "In this case, the logarithmic transformation is used to decrease skewness and convert the distribution into a more symmetric, normal distribution. Skewed data can affect the performance of some statistical models and violate assumptions. By applying the logarithmic transformation, we aim to reduce the skewness and achieve a more normal distribution, which can help improve the validity of statistical analyses and model performance"
   ]
  },
  {
   "cell_type": "code",
   "execution_count": null,
   "id": "30aa4ca9",
   "metadata": {},
   "outputs": [],
   "source": []
  }
 ],
 "metadata": {
  "kernelspec": {
   "display_name": "Python 3 (ipykernel)",
   "language": "python",
   "name": "python3"
  },
  "language_info": {
   "codemirror_mode": {
    "name": "ipython",
    "version": 3
   },
   "file_extension": ".py",
   "mimetype": "text/x-python",
   "name": "python",
   "nbconvert_exporter": "python",
   "pygments_lexer": "ipython3",
   "version": "3.10.9"
  }
 },
 "nbformat": 4,
 "nbformat_minor": 5
}
